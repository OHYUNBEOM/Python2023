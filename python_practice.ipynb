{
 "cells": [
  {
   "cell_type": "code",
   "execution_count": null,
   "metadata": {},
   "outputs": [],
   "source": [
    "def add(a,b):\n",
    "    return a+b\n",
    "def mul(a,b):\n",
    "    return a*b\n",
    "def div(a,b):\n",
    "    return a/b\n",
    "try:\n",
    "    x,y=list(map(int,input('정수 두개 입력>').split()))\n",
    "except Exception as e:\n",
    "    print(e)\n",
    "    exit()\n",
    "finally:\n",
    "    print('탈출해도 나옴')\n",
    "\n",
    "try:\n",
    "    print(f'div:{div(x,y)}')\n",
    "except Exception as e:\n",
    "    print(e)\n",
    "print(f'add:{add(x,y)}')\n",
    "print(f'mul:{mul(x,y)}')\n"
   ]
  }
 ],
 "metadata": {
  "kernelspec": {
   "display_name": "Python 3",
   "language": "python",
   "name": "python3"
  },
  "language_info": {
   "codemirror_mode": {
    "name": "ipython",
    "version": 3
   },
   "file_extension": ".py",
   "mimetype": "text/x-python",
   "name": "python",
   "nbconvert_exporter": "python",
   "pygments_lexer": "ipython3",
   "version": "3.11.1"
  },
  "orig_nbformat": 4,
  "vscode": {
   "interpreter": {
    "hash": "5801587a06112e6250870f7b732ec27b04ad3aa34afbae47b4a821f67eef7a1b"
   }
  }
 },
 "nbformat": 4,
 "nbformat_minor": 2
}
