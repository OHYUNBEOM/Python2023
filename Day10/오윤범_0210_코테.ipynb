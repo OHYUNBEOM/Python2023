{
 "cells": [
  {
   "attachments": {},
   "cell_type": "markdown",
   "metadata": {},
   "source": [
    "## 1번 \n",
    "- ### 반지름 값을 입력받아 원의 넓이를 구하여 출력"
   ]
  },
  {
   "cell_type": "code",
   "execution_count": 1,
   "metadata": {},
   "outputs": [
    {
     "name": "stdout",
     "output_type": "stream",
     "text": [
      "원의 넓이> 314.1592653589793\n"
     ]
    }
   ],
   "source": [
    "import math\n",
    "radius = int(input('반지름 값 입력>'))\n",
    "pi = math.pi\n",
    "size = radius*radius*pi\n",
    "print(f'원의 넓이> {size}')"
   ]
  },
  {
   "attachments": {},
   "cell_type": "markdown",
   "metadata": {},
   "source": [
    "## 2번\n",
    "- ### 태양계는 수성,금성,지구,화성,목성,토성,천왕성,해왕성으로 구성. 행성 입력받고 각각의 영어이름 출력"
   ]
  },
  {
   "cell_type": "code",
   "execution_count": 1,
   "metadata": {},
   "outputs": [
    {
     "name": "stdout",
     "output_type": "stream",
     "text": [
      "Neptune 은 해왕성 입니다.\n"
     ]
    }
   ],
   "source": [
    "name=input('행성 영어이름 입력>')\n",
    "\n",
    "if name == 'Mercury':\n",
    "    print(f'{name} 은 수성 입니다.')\n",
    "elif name == 'Venus':\n",
    "    print(f'{name} 은 금성 입니다.')\n",
    "elif name == 'Earth':\n",
    "    print(f'{name} 은 지구 입니다.')\n",
    "elif name == 'Mars':\n",
    "    print(f'{name} 은 화성 입니다.')\n",
    "elif name == 'Jupiter':\n",
    "    print(f'{name} 은 목성 입니다.')\n",
    "elif name == 'Saturn':\n",
    "    print(f'{name} 은 토성 입니다.')\n",
    "elif name == 'Urans':\n",
    "    print(f'{name} 은 천왕성 입니다.')\n",
    "elif name == 'Neptune':\n",
    "    print(f'{name} 은 해왕성 입니다.')\n",
    "else:\n",
    "    print('행성 이름을 잘 못 입력하셨습니다. 제대로 입력하세요.')\n"
   ]
  },
  {
   "attachments": {},
   "cell_type": "markdown",
   "metadata": {},
   "source": [
    "## 3번\n",
    "- ### 영어 문자열의 단어 수를 출력하고 짝수번째 단어를 대문자로 변경하여 출력"
   ]
  },
  {
   "cell_type": "code",
   "execution_count": 72,
   "metadata": {},
   "outputs": [
    {
     "name": "stdout",
     "output_type": "stream",
     "text": [
      "I'm going to leave the door open = 7\n",
      "/\n",
      "I'm GOING to LEAVE the DOOR open "
     ]
    }
   ],
   "source": [
    "inputs =list(map(str,input('영어 문자열 입력').split()))\n",
    "for i in range(0,len(inputs)):\n",
    "    print(inputs[i],end=' ')\n",
    "print(f'= {len(inputs)}')\n",
    "print('/')\n",
    "\n",
    "for i in range(0,len(inputs)):\n",
    "    if i%2==1:\n",
    "        print(inputs[i].upper(),end=' ')\n",
    "    elif i%2==0:\n",
    "        print(inputs[i],end=' ')\n",
    "    \n"
   ]
  },
  {
   "attachments": {},
   "cell_type": "markdown",
   "metadata": {},
   "source": [
    "## 4번\n",
    "- ### 입력한 수를 거꾸로 출력"
   ]
  },
  {
   "cell_type": "code",
   "execution_count": 70,
   "metadata": {},
   "outputs": [
    {
     "name": "stdout",
     "output_type": "stream",
     "text": [
      "1 2 3 4 5 6 7 8 9 10 --> 10 9 8 7 6 5 4 3 2 1 "
     ]
    }
   ],
   "source": [
    "num = list(map(int,input('정수 여러개 입력').split()))\n",
    "numlen=len(num)\n",
    "for i in range(numlen):\n",
    "    print(num[i],end=' ')\n",
    "\n",
    "print('-->',end=' ')\n",
    "\n",
    "for i in range(numlen,0,-1):\n",
    "    print(num[i-1],end=' ')\n"
   ]
  },
  {
   "attachments": {},
   "cell_type": "markdown",
   "metadata": {},
   "source": [
    "## 5번\n",
    "- ### 번호 입력받아 해당 단의 구구단 결과 값 출력"
   ]
  },
  {
   "cell_type": "code",
   "execution_count": 69,
   "metadata": {},
   "outputs": [
    {
     "name": "stdout",
     "output_type": "stream",
     "text": [
      "6--> 6 12 18 24 30 36 42 48 54 "
     ]
    }
   ],
   "source": [
    "start = int(input('구구단 수행할 단 번호 입력>'))\n",
    "print(f'{start}-->',end=' ')\n",
    "for i in range(1,10):\n",
    "    print(f'{start*i}',end=' ')"
   ]
  }
 ],
 "metadata": {
  "kernelspec": {
   "display_name": "Python 3",
   "language": "python",
   "name": "python3"
  },
  "language_info": {
   "codemirror_mode": {
    "name": "ipython",
    "version": 3
   },
   "file_extension": ".py",
   "mimetype": "text/x-python",
   "name": "python",
   "nbconvert_exporter": "python",
   "pygments_lexer": "ipython3",
   "version": "3.11.1"
  },
  "orig_nbformat": 4,
  "vscode": {
   "interpreter": {
    "hash": "5801587a06112e6250870f7b732ec27b04ad3aa34afbae47b4a821f67eef7a1b"
   }
  }
 },
 "nbformat": 4,
 "nbformat_minor": 2
}
