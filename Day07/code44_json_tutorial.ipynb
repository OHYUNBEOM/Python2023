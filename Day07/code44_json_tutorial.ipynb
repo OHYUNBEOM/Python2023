{
 "cells": [
  {
   "attachments": {},
   "cell_type": "markdown",
   "metadata": {},
   "source": [
    "# JSON 파일 읽고 쓰기"
   ]
  },
  {
   "cell_type": "code",
   "execution_count": 32,
   "metadata": {},
   "outputs": [
    {
     "name": "stdout",
     "output_type": "stream",
     "text": [
      "{\n",
      "\t\"sm5\": {\n",
      "\t\t\"price\": 3700000,\n",
      "\t\t\"year\": \"2010\"\n",
      "\t},\n",
      "\t\"genesis\": {\n",
      "\t\t\"price\": \"8천만원\",\n",
      "\t\t\"year\": \"2021\"\n",
      "\t},\n",
      "\t\"BMW\": {\n",
      "\t\t\"price\": 9999999,\n",
      "\t\t\"year\": \"2022\"\n",
      "\t}\n",
      "}\n"
     ]
    }
   ],
   "source": [
    "import json\n",
    "file=open('./test.json','r',encoding='utf-8') #기본적인 파일 읽기(close 필요) <- 선호\n",
    "json_data = json.load(file)\n",
    "print(json.dumps(json_data,indent='\\t', ensure_ascii=False)) #indent 로 들여쓰기(원래 파일처럼)\n",
    "file.close()"
   ]
  },
  {
   "cell_type": "code",
   "execution_count": 35,
   "metadata": {},
   "outputs": [
    {
     "name": "stdout",
     "output_type": "stream",
     "text": [
      "{\n",
      "\t\"sm5\": {\n",
      "\t\t\"price\": 3700000,\n",
      "\t\t\"year\": \"2010\"\n",
      "\t},\n",
      "\t\"genesis\": {\n",
      "\t\t\"price\": \"8천만원\",\n",
      "\t\t\"year\": \"2021\"\n",
      "\t},\n",
      "\t\"BMW\": {\n",
      "\t\t\"price\": 9999999,\n",
      "\t\t\"year\": \"2022\"\n",
      "\t}\n",
      "}\n"
     ]
    }
   ],
   "source": [
    "with open('./test.json','r',encoding='utf-8') as f: #close가 필요없는 파일읽기\n",
    "    json_data = json.load(f)\n",
    "print(json.dumps(json_data,indent='\\t',ensure_ascii=False))"
   ]
  },
  {
   "attachments": {},
   "cell_type": "markdown",
   "metadata": {},
   "source": [
    "### json 파일 값읽기"
   ]
  },
  {
   "cell_type": "code",
   "execution_count": 36,
   "metadata": {},
   "outputs": [
    {
     "data": {
      "text/plain": [
       "'8천만원'"
      ]
     },
     "execution_count": 36,
     "metadata": {},
     "output_type": "execute_result"
    }
   ],
   "source": [
    "json_data['genesis']['price']"
   ]
  },
  {
   "attachments": {},
   "cell_type": "markdown",
   "metadata": {},
   "source": [
    "### json 값 수정"
   ]
  },
  {
   "cell_type": "code",
   "execution_count": 37,
   "metadata": {},
   "outputs": [
    {
     "name": "stdout",
     "output_type": "stream",
     "text": [
      "{\n",
      "\t\"sm5\": {\n",
      "\t\t\"price\": 3700000,\n",
      "\t\t\"year\": \"2010\"\n",
      "\t},\n",
      "\t\"genesis\": {\n",
      "\t\t\"price\": 9999999999,\n",
      "\t\t\"year\": \"2021\"\n",
      "\t},\n",
      "\t\"BMW\": {\n",
      "\t\t\"price\": 9999999,\n",
      "\t\t\"year\": \"2022\"\n",
      "\t}\n",
      "}\n"
     ]
    }
   ],
   "source": [
    "json_data['genesis']['price']=9999999999\n",
    "print(json.dumps(json_data,indent='\\t'))"
   ]
  },
  {
   "attachments": {},
   "cell_type": "markdown",
   "metadata": {},
   "source": [
    "### json 파일 저장"
   ]
  },
  {
   "cell_type": "code",
   "execution_count": 39,
   "metadata": {},
   "outputs": [],
   "source": [
    "with open('./test2.json','w',encoding='utf-8') as file:\n",
    "    json.dump(json_data,file,indent='\\t')"
   ]
  },
  {
   "attachments": {},
   "cell_type": "markdown",
   "metadata": {},
   "source": [
    "### json 파일 쓰기"
   ]
  },
  {
   "cell_type": "code",
   "execution_count": 41,
   "metadata": {},
   "outputs": [
    {
     "name": "stdout",
     "output_type": "stream",
     "text": [
      "{\n",
      "\t\"audi\": {\n",
      "\t\t\"price\": 9999,\n",
      "\t\t\"year\": \"2020\"\n",
      "\t},\n",
      "\t\"porshe\": {\n",
      "\t\t\"price\": 99999,\n",
      "\t\t\"year\": \"2022\"\n",
      "\t}\n",
      "}\n"
     ]
    }
   ],
   "source": [
    "import json\n",
    "supercars=dict()\n",
    "audi=dict()\n",
    "audi['price']=9999\n",
    "audi['year']='2020'\n",
    "supercars['audi']=audi\n",
    "porshe=dict()\n",
    "porshe['price']=99999\n",
    "porshe['year']='2022'\n",
    "supercars['porshe']=porshe\n",
    "#json 파일로 저장\n",
    "with open('./supercar.json','w',encoding='utf-8') as file:\n",
    "    json.dump(supercars,file,indent='\\t',ensure_ascii=True)\n",
    "#json 파일 로드\n",
    "with open('./supercar.json','r',encoding='utf-8') as file:\n",
    "    json_data=json.load(file)\n",
    "print(json.dumps(json_data,indent='\\t'))"
   ]
  }
 ],
 "metadata": {
  "kernelspec": {
   "display_name": "venv",
   "language": "python",
   "name": "python3"
  },
  "language_info": {
   "codemirror_mode": {
    "name": "ipython",
    "version": 3
   },
   "file_extension": ".py",
   "mimetype": "text/x-python",
   "name": "python",
   "nbconvert_exporter": "python",
   "pygments_lexer": "ipython3",
   "version": "3.11.1"
  },
  "orig_nbformat": 4,
  "vscode": {
   "interpreter": {
    "hash": "e2fda0d25371820ddc6aad72bf7375268ccfba241251a464cb4a9058751fc07d"
   }
  }
 },
 "nbformat": 4,
 "nbformat_minor": 2
}
